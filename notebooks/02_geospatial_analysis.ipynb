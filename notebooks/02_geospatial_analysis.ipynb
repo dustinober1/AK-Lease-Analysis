{
 "cells": [
  {
   "cell_type": "markdown",
   "metadata": {},
   "source": [
    "# Alaska Oil & Gas Lease Analysis - Geospatial Analysis\n",
    "\n",
    "## Overview\n",
    "This notebook focuses on the geographic and spatial aspects of Alaska OCS leases, including mapping, spatial patterns, and geographic insights.\n"
   ]
  },
  {
   "cell_type": "code",
   "execution_count": null,
   "metadata": {},
   "outputs": [],
   "source": [
    "import pandas as pd\n",
    "import geopandas as gpd\n",
    "import matplotlib.pyplot as plt\n",
    "import folium\n",
    "from folium import plugins\n",
    "import json\n",
    "import numpy as np\n",
    "import seaborn as sns\n",
    "from shapely.geometry import Point\n",
    "import warnings\n",
    "warnings.filterwarnings('ignore')\n",
    "\n",
    "print(\"Geospatial libraries imported successfully\")"
   ]
  },
  {
   "cell_type": "markdown",
   "metadata": {},
   "source": [
    "## 1. Loading Geospatial Data"
   ]
  },
  {
   "cell_type": "code",
   "execution_count": null,
   "metadata": {},
   "outputs": [],
   "source": [
    "# Load the GeoJSON data\n",
    "gdf = gpd.read_file('../data/AK_Leases.geojson')\n",
    "\n",
    "print(f\"Geospatial dataset shape: {gdf.shape}\")\n",
    "print(f\"CRS (Coordinate Reference System): {gdf.crs}\")\n",
    "print(f\"Geometry type: {gdf.geometry.geom_type.unique()}\")\n",
    "\n",
    "# Display first few rows\n",
    "gdf.head()"
   ]
  },
  {
   "cell_type": "code",
   "execution_count": null,
   "metadata": {},
   "outputs": [],
   "source": [
    "# Check the bounds of the data\n",
    "bounds = gdf.total_bounds\n",
    "print(f\"Data bounds (minx, miny, maxx, maxy): {bounds}\")\n",
    "\n",
    "# Calculate centroid for map centering\n",
    "center_lat = (bounds[1] + bounds[3]) / 2\n",
    "center_lon = (bounds[0] + bounds[2]) / 2\n",
    "print(f\"Center coordinates: {center_lat:.4f}, {center_lon:.4f}\")"
   ]
  },
  {
   "cell_type": "markdown",
   "metadata": {},
   "source": [
    "## 2. Basic Geospatial Visualization"
   ]
  },
  {
   "cell_type": "code",
   "execution_count": null,
   "metadata": {},
   "outputs": [],
   "source": [
    "# Create a basic map of all leases\n",
    "fig, ax = plt.subplots(figsize=(15, 10))\n",
    "gdf.plot(ax=ax, alpha=0.6, edgecolor='black', linewidth=0.5)\n",
    "ax.set_title('Alaska OCS Oil & Gas Leases - Geographic Distribution', fontsize=16)\n",
    "ax.set_xlabel('Longitude')\n",
    "ax.set_ylabel('Latitude')\n",
    "plt.tight_layout()\n",
    "plt.show()"
   ]
  },
  {
   "cell_type": "code",
   "execution_count": null,
   "metadata": {},
   "outputs": [],
   "source": [
    "# Color-code by lease status\n",
    "fig, ax = plt.subplots(figsize=(15, 10))\n",
    "\n",
    "# Create color mapping for active/inactive\n",
    "color_map = {'Y': 'green', 'N': 'red'}\n",
    "gdf['color'] = gdf['LEASE_IS_ACTIVE'].map(color_map)\n",
    "\n",
    "for status in gdf['LEASE_IS_ACTIVE'].unique():\n",
    "    subset = gdf[gdf['LEASE_IS_ACTIVE'] == status]\n",
    "    label = 'Active' if status == 'Y' else 'Inactive'\n",
    "    subset.plot(ax=ax, color=color_map[status], alpha=0.7, \n",
    "                edgecolor='black', linewidth=0.3, label=label)\n",
    "\n",
    "ax.set_title('Alaska OCS Leases by Status (Active vs Inactive)', fontsize=16)\n",
    "ax.set_xlabel('Longitude')\n",
    "ax.set_ylabel('Latitude')\n",
    "ax.legend()\n",
    "plt.tight_layout()\n",
    "plt.show()"
   ]
  },
  {
   "cell_type": "markdown",
   "metadata": {},
   "source": [
    "## 3. Interactive Mapping with Folium"
   ]
  },
  {
   "cell_type": "code",
   "execution_count": null,
   "metadata": {},
   "outputs": [],
   "source": [
    "# Create an interactive map\n",
    "m = folium.Map(\n",
    "    location=[center_lat, center_lon],\n",
    "    zoom_start=6,\n",
    "    tiles='OpenStreetMap'\n",
    ")\n",
    "\n",
    "# Add lease polygons to the map\n",
    "# Sample a subset for performance (adjust as needed)\n",
    "sample_size = min(500, len(gdf))  # Show up to 500 leases\n",
    "gdf_sample = gdf.sample(n=sample_size, random_state=42)\n",
    "\n",
    "for idx, row in gdf_sample.iterrows():\n",
    "    # Create popup text with lease information\n",
    "    popup_text = f\"\"\"\n",
    "    <b>Lease Number:</b> {row['LEASE_NUMBER']}<br>\n",
    "    <b>Company:</b> {row['BUS_ASC_NAME']}<br>\n",
    "    <b>Status:</b> {'Active' if row['LEASE_IS_ACTIVE'] == 'Y' else 'Inactive'}<br>\n",
    "    <b>Area:</b> {row['CURRENT_AREA']:.2f} hectares<br>\n",
    "    <b>Bid Amount:</b> ${row['BID_AMOUNT']:,.2f}<br>\n",
    "    <b>Planning Area:</b> {row['MMS_PLAN_AREA_CD']}\n",
    "    \"\"\"\n",
    "    \n",
    "    # Color based on active status\n",
    "    color = 'green' if row['LEASE_IS_ACTIVE'] == 'Y' else 'red'\n",
    "    \n",
    "    # Add polygon to map\n",
    "    folium.GeoJson(\n",
    "        row['geometry'],\n",
    "        style_function=lambda x, color=color: {\n",
    "            'fillColor': color,\n",
    "            'color': 'black',\n",
    "            'weight': 1,\n",
    "            'fillOpacity': 0.6\n",
    "        },\n",
    "        popup=folium.Popup(popup_text, max_width=300)\n",
    "    ).add_to(m)\n",
    "\n",
    "# Add a legend\n",
    "legend_html = '''\n",
    "<div style=\"position: fixed; \n",
    "            bottom: 50px; left: 50px; width: 150px; height: 90px; \n",
    "            background-color: white; border:2px solid grey; z-index:9999; \n",
    "            font-size:14px; padding: 10px\">\n",
    "<p><b>Lease Status</b></p>\n",
    "<p><i class=\"fa fa-square\" style=\"color:green\"></i> Active</p>\n",
    "<p><i class=\"fa fa-square\" style=\"color:red\"></i> Inactive</p>\n",
    "</div>\n",
    "'''\n",
    "m.get_root().html.add_child(folium.Element(legend_html))\n",
    "\n",
    "# Save the map\n",
    "m.save('../visualizations/alaska_leases_map.html')\n",
    "print(f\"Interactive map saved to ../visualizations/alaska_leases_map.html\")\n",
    "print(f\"Map shows a sample of {sample_size} leases\")\n",
    "\n",
    "# Display the map\n",
    "m"
   ]
  },
  {
   "cell_type": "markdown",
   "metadata": {},
   "source": [
    "## 4. Spatial Analysis by Planning Area"
   ]
  },
  {
   "cell_type": "code",
   "execution_count": null,
   "metadata": {},
   "outputs": [],
   "source": [
    "# Analyze lease distribution by planning area\n",
    "planning_area_stats = gdf.groupby('MMS_PLAN_AREA_CD').agg({\n",
    "    'LEASE_NUMBER': 'count',\n",
    "    'CURRENT_AREA': 'sum',\n",
    "    'BID_AMOUNT': 'sum',\n",
    "    'LEASE_IS_ACTIVE': lambda x: (x == 'Y').sum()\n",
    "}).round(2)\n",
    "\n",
    "planning_area_stats.columns = ['Total_Leases', 'Total_Area_Hectares', 'Total_Bid_Amount', 'Active_Leases']\n",
    "planning_area_stats['Active_Percentage'] = (planning_area_stats['Active_Leases'] / planning_area_stats['Total_Leases'] * 100).round(1)\n",
    "\n",
    "print(\"Planning Area Statistics:\")\n",
    "print(planning_area_stats.sort_values('Total_Leases', ascending=False))"
   ]
  },
  {
   "cell_type": "code",
   "execution_count": null,
   "metadata": {},
   "outputs": [],
   "source": [
    "# Visualize planning areas separately\n",
    "fig, axes = plt.subplots(2, 2, figsize=(20, 15))\n",
    "fig.suptitle('Alaska OCS Leases by Planning Area', fontsize=20)\n",
    "\n",
    "planning_areas = gdf['MMS_PLAN_AREA_CD'].unique()\n",
    "\n",
    "for i, area in enumerate(planning_areas[:4]):  # Show top 4 areas\n",
    "    ax = axes[i//2, i%2]\n",
    "    area_data = gdf[gdf['MMS_PLAN_AREA_CD'] == area]\n",
    "    \n",
    "    # Color by active status\n",
    "    for status in area_data['LEASE_IS_ACTIVE'].unique():\n",
    "        subset = area_data[area_data['LEASE_IS_ACTIVE'] == status]\n",
    "        color = 'green' if status == 'Y' else 'red'\n",
    "        label = 'Active' if status == 'Y' else 'Inactive'\n",
    "        subset.plot(ax=ax, color=color, alpha=0.7, edgecolor='black', linewidth=0.3, label=label)\n",
    "    \n",
    "    ax.set_title(f'Planning Area: {area}\\n({len(area_data)} leases)', fontsize=14)\n",
    "    ax.set_xlabel('Longitude')\n",
    "    ax.set_ylabel('Latitude')\n",
    "    if i == 0:  # Add legend to first subplot\n",
    "        ax.legend()\n",
    "\n",
    "plt.tight_layout()\n",
    "plt.show()"
   ]
  },
  {
   "cell_type": "markdown",
   "metadata": {},
   "source": [
    "## 5. Spatial Density Analysis"
   ]
  },
  {
   "cell_type": "code",
   "execution_count": null,
   "metadata": {},
   "outputs": [],
   "source": [
    "# Calculate lease density using centroids\n",
    "gdf['centroid'] = gdf.geometry.centroid\n",
    "gdf['lon'] = gdf.centroid.x\n",
    "gdf['lat'] = gdf.centroid.y\n",
    "\n",
    "# Create hexbin plot for density visualization\n",
    "fig, ax = plt.subplots(figsize=(15, 10))\n",
    "\n",
    "# Create hexbin plot\n",
    "hb = ax.hexbin(gdf['lon'], gdf['lat'], gridsize=30, cmap='YlOrRd', alpha=0.8)\n",
    "ax.set_title('Lease Density Heatmap (Hexagonal Bins)', fontsize=16)\n",
    "ax.set_xlabel('Longitude')\n",
    "ax.set_ylabel('Latitude')\n",
    "\n",
    "# Add colorbar\n",
    "cb = plt.colorbar(hb, ax=ax)\n",
    "cb.set_label('Number of Leases per Hexagon')\n",
    "\n",
    "plt.tight_layout()\n",
    "plt.show()"
   ]
  },
  {
   "cell_type": "markdown",
   "metadata": {},
   "source": [
    "## 6. Lease Size and Value Spatial Analysis"
   ]
  },
  {
   "cell_type": "code",
   "execution_count": null,
   "metadata": {},
   "outputs": [],
   "source": [
    "# Visualize lease size spatially\n",
    "fig, axes = plt.subplots(1, 2, figsize=(20, 8))\n",
    "\n",
    "# Plot 1: Lease size\n",
    "gdf.plot(column='CURRENT_AREA', cmap='viridis', legend=True, ax=axes[0], \n",
    "         edgecolor='black', linewidth=0.1, alpha=0.8)\n",
    "axes[0].set_title('Lease Size Distribution (Current Area in Hectares)', fontsize=14)\n",
    "axes[0].set_xlabel('Longitude')\n",
    "axes[0].set_ylabel('Latitude')\n",
    "\n",
    "# Plot 2: Bid amount (log scale for better visualization)\n",
    "gdf['log_bid'] = np.log10(gdf['BID_AMOUNT'].replace(0, 1))  # Replace 0 with 1 for log\n",
    "gdf.plot(column='log_bid', cmap='plasma', legend=True, ax=axes[1], \n",
    "         edgecolor='black', linewidth=0.1, alpha=0.8)\n",
    "axes[1].set_title('Bid Amount Distribution (Log10 Scale)', fontsize=14)\n",
    "axes[1].set_xlabel('Longitude')\n",
    "axes[1].set_ylabel('Latitude')\n",
    "\n",
    "plt.tight_layout()\n",
    "plt.show()"
   ]
  },
  {
   "cell_type": "markdown",
   "metadata": {},
   "source": [
    "## 7. Temporal-Spatial Analysis"
   ]
  },
  {
   "cell_type": "code",
   "execution_count": null,
   "metadata": {},
   "outputs": [],
   "source": [
    "# Convert sale date and extract year\n",
    "gdf['SALE_DATE'] = pd.to_datetime(gdf['SALE_DATE'], errors='coerce')\n",
    "gdf['SALE_YEAR'] = gdf['SALE_DATE'].dt.year\n",
    "\n",
    "# Analyze spatial patterns by decade\n",
    "gdf['DECADE'] = (gdf['SALE_YEAR'] // 10) * 10\n",
    "\n",
    "# Plot leases by decade\n",
    "decades = sorted(gdf['DECADE'].dropna().unique())\n",
    "n_decades = len(decades)\n",
    "cols = 2\n",
    "rows = (n_decades + 1) // 2\n",
    "\n",
    "fig, axes = plt.subplots(rows, cols, figsize=(15, 5*rows))\n",
    "fig.suptitle('Lease Sales by Decade', fontsize=16)\n",
    "\n",
    "for i, decade in enumerate(decades):\n",
    "    ax = axes[i//cols, i%cols] if rows > 1 else axes[i%cols]\n",
    "    decade_data = gdf[gdf['DECADE'] == decade]\n",
    "    \n",
    "    if len(decade_data) > 0:\n",
    "        decade_data.plot(ax=ax, alpha=0.7, edgecolor='black', linewidth=0.3)\n",
    "        ax.set_title(f'{int(decade)}s ({len(decade_data)} leases)', fontsize=12)\n",
    "        ax.set_xlabel('Longitude')\n",
    "        ax.set_ylabel('Latitude')\n",
    "\n",
    "# Hide empty subplots\n",
    "if n_decades < rows * cols:\n",
    "    for i in range(n_decades, rows * cols):\n",
    "        ax = axes[i//cols, i%cols] if rows > 1 else axes[i%cols]\n",
    "        ax.set_visible(False)\n",
    "\n",
    "plt.tight_layout()\n",
    "plt.show()"
   ]
  },
  {
   "cell_type": "markdown",
   "metadata": {},
   "source": [
    "## 8. Export Key Findings"
   ]
  },
  {
   "cell_type": "code",
   "execution_count": null,
   "metadata": {},
   "outputs": [],
   "source": [
    "# Summary of geospatial findings\n",
    "print(\"GEOSPATIAL ANALYSIS SUMMARY\")\n",
    "print(\"=\" * 50)\n",
    "print(f\"Total lease area coverage: {gdf['CURRENT_AREA'].sum():,.2f} hectares\")\n",
    "print(f\"Average lease size: {gdf['CURRENT_AREA'].mean():,.2f} hectares\")\n",
    "print(f\"Geographic extent:\")\n",
    "print(f\"  Latitude range: {bounds[1]:.4f}° to {bounds[3]:.4f}°\")\n",
    "print(f\"  Longitude range: {bounds[0]:.4f}° to {bounds[2]:.4f}°\")\n",
    "\n",
    "print(\"\\nPlanning Area Distribution:\")\n",
    "for area in planning_area_stats.index:\n",
    "    stats = planning_area_stats.loc[area]\n",
    "    print(f\"  {area}: {stats['Total_Leases']} leases, {stats['Active_Percentage']:.1f}% active\")\n",
    "\n",
    "print(\"\\nTemporal Patterns:\")\n",
    "decade_counts = gdf['DECADE'].value_counts().sort_index()\n",
    "for decade, count in decade_counts.items():\n",
    "    if not pd.isna(decade):\n",
    "        print(f\"  {int(decade)}s: {count} leases\")"
   ]
  }
 ],
 "metadata": {
  "kernelspec": {
   "display_name": "Python 3",
   "language": "python",
   "name": "python3"
  },
  "language_info": {
   "codemirror_mode": {
    "name": "ipython",
    "version": 3
   },
   "file_extension": ".py",
   "mimetype": "text/x-python",
   "name": "python",
   "nbconvert_exporter": "python",
   "pygments_lexer": "ipython3",
   "version": "3.8.0"
  }
 },
 "nbformat": 4,
 "nbformat_minor": 4
}