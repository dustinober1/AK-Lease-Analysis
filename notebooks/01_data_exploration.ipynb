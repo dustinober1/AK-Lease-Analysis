{
 "cells": [
  {
   "cell_type": "markdown",
   "metadata": {},
   "source": [
    "# Alaska Oil & Gas Lease Analysis - Data Exploration\n",
    "\n",
    "## Overview\n",
    "This notebook explores the Alaska Outer Continental Shelf (OCS) oil and gas lease dataset from BOEM (Bureau of Ocean Energy Management).\n",
    "\n",
    "## Dataset Information\n",
    "- **Source**: Bureau of Ocean Energy Management (BOEM)\n",
    "- **Region**: Alaska OCS\n",
    "- **Content**: Active and inactive federal oil and gas leases\n",
    "- **Last Updated**: September 17, 2024\n"
   ]
  },
  {
   "cell_type": "code",
   "execution_count": null,
   "metadata": {},
   "outputs": [],
   "source": [
    "import pandas as pd\n",
    "import numpy as np\n",
    "import matplotlib.pyplot as plt\n",
    "import seaborn as sns\n",
    "import warnings\n",
    "warnings.filterwarnings('ignore')\n",
    "\n",
    "# Set style\n",
    "plt.style.use('seaborn-v0_8')\n",
    "sns.set_palette(\"husl\")\n",
    "\n",
    "print(\"Libraries imported successfully\")"
   ]
  },
  {
   "cell_type": "markdown",
   "metadata": {},
   "source": [
    "## 1. Data Loading and Initial Inspection"
   ]
  },
  {
   "cell_type": "code",
   "execution_count": null,
   "metadata": {},
   "outputs": [],
   "source": [
    "# Load the dataset\n",
    "df = pd.read_csv('../data/AK_Leases.csv')\n",
    "\n",
    "print(f\"Dataset shape: {df.shape}\")\n",
    "print(f\"Columns: {len(df.columns)}\")\n",
    "print(f\"Rows: {len(df)}\")\n",
    "\n",
    "# Display first few rows\n",
    "df.head()"
   ]
  },
  {
   "cell_type": "code",
   "execution_count": null,
   "metadata": {},
   "outputs": [],
   "source": [
    "# Check data types and missing values\n",
    "print(\"Data Types and Missing Values:\")\n",
    "print(\"=\" * 50)\n",
    "info_df = pd.DataFrame({\n",
    "    'Column': df.columns,\n",
    "    'Data_Type': df.dtypes,\n",
    "    'Non_Null_Count': df.count(),\n",
    "    'Null_Count': df.isnull().sum(),\n",
    "    'Null_Percentage': (df.isnull().sum() / len(df) * 100).round(2)\n",
    "})\n",
    "\n",
    "info_df"
   ]
  },
  {
   "cell_type": "markdown",
   "metadata": {},
   "source": [
    "## 2. Key Column Analysis"
   ]
  },
  {
   "cell_type": "code",
   "execution_count": null,
   "metadata": {},
   "outputs": [],
   "source": [
    "# Lease status analysis\n",
    "print(\"Lease Status Distribution:\")\n",
    "status_counts = df['LEASE_STATUS_CD'].value_counts()\n",
    "print(status_counts)\n",
    "\n",
    "# Visualize lease status\n",
    "plt.figure(figsize=(10, 6))\n",
    "status_counts.plot(kind='bar')\n",
    "plt.title('Distribution of Lease Status')\n",
    "plt.xlabel('Lease Status Code')\n",
    "plt.ylabel('Count')\n",
    "plt.xticks(rotation=45)\n",
    "plt.tight_layout()\n",
    "plt.show()"
   ]
  },
  {
   "cell_type": "code",
   "execution_count": null,
   "metadata": {},
   "outputs": [],
   "source": [
    "# Active vs Inactive leases\n",
    "print(\"Active vs Inactive Leases:\")\n",
    "active_counts = df['LEASE_IS_ACTIVE'].value_counts()\n",
    "print(active_counts)\n",
    "\n",
    "# Pie chart for active status\n",
    "plt.figure(figsize=(8, 8))\n",
    "active_counts.plot(kind='pie', autopct='%1.1f%%')\n",
    "plt.title('Active vs Inactive Leases')\n",
    "plt.ylabel('')\n",
    "plt.show()"
   ]
  },
  {
   "cell_type": "code",
   "execution_count": null,
   "metadata": {},
   "outputs": [],
   "source": [
    "# Business associate (company) analysis\n",
    "print(\"Top 10 Companies by Number of Leases:\")\n",
    "company_counts = df['BUS_ASC_NAME'].value_counts().head(10)\n",
    "print(company_counts)\n",
    "\n",
    "# Visualize top companies\n",
    "plt.figure(figsize=(12, 6))\n",
    "company_counts.plot(kind='bar')\n",
    "plt.title('Top 10 Companies by Number of Leases')\n",
    "plt.xlabel('Company')\n",
    "plt.ylabel('Number of Leases')\n",
    "plt.xticks(rotation=45, ha='right')\n",
    "plt.tight_layout()\n",
    "plt.show()"
   ]
  },
  {
   "cell_type": "markdown",
   "metadata": {},
   "source": [
    "## 3. Temporal Analysis"
   ]
  },
  {
   "cell_type": "code",
   "execution_count": null,
   "metadata": {},
   "outputs": [],
   "source": [
    "# Convert date columns to datetime\n",
    "date_columns = ['LEASE_EXPIR_DATE', 'LEASE_EFF_DATE', 'LEASE_EXPT_EXPIR', \n",
    "               'LEASE_STATUS_CHANGE_DT', 'LSE_STAT_EFF_DT', 'SALE_DATE']\n",
    "\n",
    "for col in date_columns:\n",
    "    if col in df.columns:\n",
    "        df[col] = pd.to_datetime(df[col], errors='coerce')\n",
    "\n",
    "print(\"Date columns converted to datetime format\")"
   ]
  },
  {
   "cell_type": "code",
   "execution_count": null,
   "metadata": {},
   "outputs": [],
   "source": [
    "# Analyze lease sales over time\n",
    "df['SALE_YEAR'] = df['SALE_DATE'].dt.year\n",
    "\n",
    "# Sales by year\n",
    "sales_by_year = df['SALE_YEAR'].value_counts().sort_index()\n",
    "\n",
    "plt.figure(figsize=(12, 6))\n",
    "sales_by_year.plot(kind='line', marker='o')\n",
    "plt.title('Number of Lease Sales by Year')\n",
    "plt.xlabel('Year')\n",
    "plt.ylabel('Number of Leases Sold')\n",
    "plt.grid(True, alpha=0.3)\n",
    "plt.tight_layout()\n",
    "plt.show()"
   ]
  },
  {
   "cell_type": "markdown",
   "metadata": {},
   "source": [
    "## 4. Geographic Analysis"
   ]
  },
  {
   "cell_type": "code",
   "execution_count": null,
   "metadata": {},
   "outputs": [],
   "source": [
    "# Regional analysis\n",
    "print(\"Leases by Region:\")\n",
    "region_counts = df['MMS_REGION_CODE'].value_counts()\n",
    "print(region_counts)\n",
    "\n",
    "# Planning area analysis\n",
    "print(\"\\nLeases by Planning Area:\")\n",
    "planning_area_counts = df['MMS_PLAN_AREA_CD'].value_counts()\n",
    "print(planning_area_counts)"
   ]
  },
  {
   "cell_type": "code",
   "execution_count": null,
   "metadata": {},
   "outputs": [],
   "source": [
    "# Protraction areas\n",
    "print(\"Top 10 Protraction Areas by Number of Leases:\")\n",
    "prot_counts = df['PROT_NAME'].value_counts().head(10)\n",
    "print(prot_counts)\n",
    "\n",
    "# Visualize top protraction areas\n",
    "plt.figure(figsize=(12, 6))\n",
    "prot_counts.plot(kind='bar')\n",
    "plt.title('Top 10 Protraction Areas by Number of Leases')\n",
    "plt.xlabel('Protraction Area')\n",
    "plt.ylabel('Number of Leases')\n",
    "plt.xticks(rotation=45, ha='right')\n",
    "plt.tight_layout()\n",
    "plt.show()"
   ]
  },
  {
   "cell_type": "markdown",
   "metadata": {},
   "source": [
    "## 5. Financial Analysis"
   ]
  },
  {
   "cell_type": "code",
   "execution_count": null,
   "metadata": {},
   "outputs": [],
   "source": [
    "# Bid amount analysis\n",
    "print(\"Bid Amount Statistics:\")\n",
    "print(f\"Total bid amount: ${df['BID_AMOUNT'].sum():,.2f}\")\n",
    "print(f\"Average bid: ${df['BID_AMOUNT'].mean():,.2f}\")\n",
    "print(f\"Median bid: ${df['BID_AMOUNT'].median():,.2f}\")\n",
    "print(f\"Max bid: ${df['BID_AMOUNT'].max():,.2f}\")\n",
    "print(f\"Min bid: ${df['BID_AMOUNT'].min():,.2f}\")\n",
    "\n",
    "# Distribution of bid amounts\n",
    "plt.figure(figsize=(12, 6))\n",
    "plt.subplot(1, 2, 1)\n",
    "df['BID_AMOUNT'].hist(bins=50, alpha=0.7)\n",
    "plt.title('Distribution of Bid Amounts')\n",
    "plt.xlabel('Bid Amount ($)')\n",
    "plt.ylabel('Frequency')\n",
    "\n",
    "plt.subplot(1, 2, 2)\n",
    "np.log10(df['BID_AMOUNT'].replace(0, np.nan)).hist(bins=50, alpha=0.7)\n",
    "plt.title('Log Distribution of Bid Amounts')\n",
    "plt.xlabel('Log10(Bid Amount)')\n",
    "plt.ylabel('Frequency')\n",
    "\n",
    "plt.tight_layout()\n",
    "plt.show()"
   ]
  },
  {
   "cell_type": "code",
   "execution_count": null,
   "metadata": {},
   "outputs": [],
   "source": [
    "# Royalty rate analysis\n",
    "print(\"Royalty Rate Distribution:\")\n",
    "royalty_counts = df['ROYALTY_RATE'].value_counts().sort_index()\n",
    "print(royalty_counts)\n",
    "\n",
    "# Area analysis\n",
    "print(\"\\nLease Area Statistics:\")\n",
    "print(f\"Total current area: {df['CURRENT_AREA'].sum():,.2f} hectares\")\n",
    "print(f\"Average lease size: {df['CURRENT_AREA'].mean():,.2f} hectares\")\n",
    "print(f\"Median lease size: {df['CURRENT_AREA'].median():,.2f} hectares\")"
   ]
  },
  {
   "cell_type": "markdown",
   "metadata": {},
   "source": [
    "## 6. Summary Statistics"
   ]
  },
  {
   "cell_type": "code",
   "execution_count": null,
   "metadata": {},
   "outputs": [],
   "source": [
    "# Generate comprehensive summary\n",
    "print(\"ALASKA OCS LEASE DATASET SUMMARY\")\n",
    "print(\"=\" * 50)\n",
    "print(f\"Total number of leases: {len(df):,}\")\n",
    "print(f\"Date range: {df['SALE_DATE'].min().strftime('%Y-%m-%d')} to {df['SALE_DATE'].max().strftime('%Y-%m-%d')}\")\n",
    "print(f\"Number of unique companies: {df['BUS_ASC_NAME'].nunique()}\")\n",
    "print(f\"Number of planning areas: {df['MMS_PLAN_AREA_CD'].nunique()}\")\n",
    "print(f\"Active leases: {(df['LEASE_IS_ACTIVE'] == 'Y').sum():,}\")\n",
    "print(f\"Inactive leases: {(df['LEASE_IS_ACTIVE'] == 'N').sum():,}\")\n",
    "print(f\"Total bid value: ${df['BID_AMOUNT'].sum():,.2f}\")\n",
    "print(f\"Total lease area: {df['CURRENT_AREA'].sum():,.2f} hectares\")"
   ]
  }
 ],
 "metadata": {
  "kernelspec": {
   "display_name": "Python 3",
   "language": "python",
   "name": "python3"
  },
  "language_info": {
   "codemirror_mode": {
    "name": "ipython",
    "version": 3
   },
   "file_extension": ".py",
   "mimetype": "text/x-python",
   "name": "python",
   "nbconvert_exporter": "python",
   "pygments_lexer": "ipython3",
   "version": "3.8.0"
  }
 },
 "nbformat": 4,
 "nbformat_minor": 4
}