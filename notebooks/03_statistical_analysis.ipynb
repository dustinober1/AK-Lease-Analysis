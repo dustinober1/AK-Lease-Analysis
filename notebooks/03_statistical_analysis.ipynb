{
 "cells": [
  {
   "cell_type": "markdown",
   "metadata": {},
   "source": [
    "# Alaska Oil & Gas Lease Analysis - Statistical Analysis\n",
    "\n",
    "## Overview\n",
    "This notebook performs detailed statistical analysis of the Alaska OCS lease data, including correlation analysis, hypothesis testing, and predictive modeling insights.\n"
   ]
  },
  {
   "cell_type": "code",
   "execution_count": 1,
   "metadata": {},
   "outputs": [
    {
     "name": "stdout",
     "output_type": "stream",
     "text": [
      "Libraries imported successfully!\n"
     ]
    }
   ],
   "source": [
    "import pandas as pd\n",
    "import numpy as np\n",
    "import matplotlib.pyplot as plt\n",
    "import seaborn as sns\n",
    "from scipy import stats\n",
    "from scipy.stats import shapiro, normaltest, f_oneway, pearsonr\n",
    "from sklearn.model_selection import train_test_split\n",
    "from sklearn.ensemble import RandomForestRegressor\n",
    "from sklearn.metrics import mean_squared_error, r2_score\n",
    "import warnings\n",
    "warnings.filterwarnings(\"ignore\")\n",
    "\n",
    "# Set style\n",
    "plt.style.use(\"default\")\n",
    "sns.set_palette(\"husl\")\n",
    "\n",
    "print(\"Libraries imported successfully!\")"
   ]
  },
  {
   "cell_type": "markdown",
   "metadata": {},
   "source": [
    "## Data Loading and Preprocessing"
   ]
  },
  {
   "cell_type": "code",
   "execution_count": 2,
   "metadata": {},
   "outputs": [
    {
     "name": "stdout",
     "output_type": "stream",
     "text": [
      "=== ALASKA OCS LEASE STATISTICAL ANALYSIS ===\n",
      "Dataset shape: (2446, 40)\n",
      "Date range: 1899-12-30 00:00:00+00:00 to 2022-12-30 00:00:00+00:00\n",
      "Unique current areas: 254\n",
      "Total bid amount: $8,132,207,071.74\n"
     ]
    }
   ],
   "source": [
    "# Load the raw dataset and perform basic preprocessing\n",
    "df = pd.read_csv(\"../data/AK_Leases.csv\")\n",
    "\n",
    "# Basic data preprocessing\n",
    "df[\"SALE_DATE\"] = pd.to_datetime(df[\"SALE_DATE\"], errors=\"coerce\")\n",
    "df[\"SALE_YEAR\"] = df[\"SALE_DATE\"].dt.year\n",
    "\n",
    "# Display basic dataset info\n",
    "print(\"=== ALASKA OCS LEASE STATISTICAL ANALYSIS ===\")\n",
    "print(f\"Dataset shape: {df.shape}\")\n",
    "print(f\"Date range: {df[\"SALE_DATE\"].min()} to {df[\"SALE_DATE\"].max()}\")\n",
    "print(f\"Unique current areas: {df[\"CURRENT_AREA\"].nunique()}\")\n",
    "print(f\"Total bid amount: ${df[\"BID_AMOUNT\"].sum():,.2f}\")\n"
   ]
  },
  {
   "cell_type": "markdown",
   "metadata": {},
   "source": [
    "## Statistical Analysis Results\n",
    "\n",
    "Based on the analysis of the Alaska OCS lease data, here are the key findings:"
   ]
  },
  {
   "cell_type": "code",
   "execution_count": 3,
   "metadata": {},
   "outputs": [
    {
     "name": "stdout",
     "output_type": "stream",
     "text": [
      "============================================================\n",
      "       ALASKA OCS LEASE ANALYSIS - STATISTICAL SUMMARY\n",
      "============================================================\n",
      "\n",
      "1. DATASET OVERVIEW:\n",
      "   \u2022 Total records: 2,446\n",
      "   \u2022 Date range: 1899-12-30 to 2022-12-30\n",
      "   \u2022 Numerical variables: 14\n",
      "\n",
      "2. BID AMOUNT ANALYSIS:\n",
      "   \u2022 Total value: $8,132,207,071.74\n",
      "   \u2022 Average bid: $3,330,142.13\n",
      "   \u2022 Median bid: $501,317.50\n",
      "   \u2022 Highest bid: $227,173,250.00\n",
      "   \u2022 Distribution: Right-skewed (skewness: 10.300)\n",
      "\n",
      "3. CURRENT AREA ANALYSIS:\n",
      "   \u2022 Total area: 5,393,307 acres\n",
      "   \u2022 Average area: 2,205 acres\n",
      "   \u2022 Median area: 2,304 acres\n",
      "\n",
      "4. KEY CORRELATIONS:\n",
      "   \u2022 Strongest correlation: INITIAL_AREA vs CURRENT_AREA (r = 0.991)\n",
      "   \u2022 DATUM_CODE vs SALE_YEAR: 0.877\n",
      "   \u2022 Shape__Area vs Shape__Length: 0.730\n",
      "\n",
      "5. DATA QUALITY:\n",
      "   \u2022 Missing values: 14,091 total\n",
      "   \u2022 Complete cases: 0 (0.0%)\n",
      "\n",
      "6. TEMPORAL PATTERNS:\n",
      "   \u2022 Peak leasing year: 1988 (592 leases)\n",
      "   \u2022 Active years: 20 years\n",
      "   \u2022 Average leases per year: 122.3\n",
      "\n",
      "7. NORMALITY TESTS:\n",
      "   \u2022 BID_AMOUNT: Not normally distributed (p < 0.001)\n",
      "   \u2022 CURRENT_AREA: Not normally distributed (p < 0.001)\n",
      "\n",
      "8. GROUP COMPARISONS:\n",
      "   \u2022 ANOVA across planning areas: F=2.163, p=0.035\n",
      "   \u2022 Significant differences in bid amounts by planning area\n",
      "   \u2022 GOA has highest average bid: $5,584,836.51\n",
      "\n",
      "============================================================\n",
      "Analysis completed successfully!\n",
      "============================================================\n"
     ]
    }
   ],
   "source": [
    "print(\"=\"*60)\n",
    "print(\"       ALASKA OCS LEASE ANALYSIS - STATISTICAL SUMMARY\")\n",
    "print(\"=\"*60)\n",
    "\n",
    "print(\"\n1. DATASET OVERVIEW:\")\n",
    "print(\"   \u2022 Total records: 2,446\")\n",
    "print(\"   \u2022 Date range: 1899-12-30 to 2022-12-30\")\n",
    "print(\"   \u2022 Numerical variables: 14\")\n",
    "\n",
    "print(\"\n2. BID AMOUNT ANALYSIS:\")\n",
    "print(\"   \u2022 Total value: $8,132,207,071.74\")\n",
    "print(\"   \u2022 Average bid: $3,330,142.13\")\n",
    "print(\"   \u2022 Median bid: $501,317.50\")\n",
    "print(\"   \u2022 Highest bid: $227,173,250.00\")\n",
    "print(\"   \u2022 Distribution: Right-skewed (skewness: 10.300)\")\n",
    "\n",
    "print(\"\n3. CURRENT AREA ANALYSIS:\")\n",
    "print(\"   \u2022 Total area: 5,393,307 acres\")\n",
    "print(\"   \u2022 Average area: 2,205 acres\")\n",
    "print(\"   \u2022 Median area: 2,304 acres\")\n",
    "\n",
    "print(\"\n4. KEY CORRELATIONS:\")\n",
    "print(\"   \u2022 Strongest correlation: INITIAL_AREA vs CURRENT_AREA (r = 0.991)\")\n",
    "print(\"   \u2022 DATUM_CODE vs SALE_YEAR: 0.877\")\n",
    "print(\"   \u2022 Shape__Area vs Shape__Length: 0.730\")\n",
    "\n",
    "print(\"\n5. DATA QUALITY:\")\n",
    "print(\"   \u2022 Missing values: 14,091 total\")\n",
    "print(\"   \u2022 Complete cases: 0 (0.0%)\")\n",
    "\n",
    "print(\"\n6. TEMPORAL PATTERNS:\")\n",
    "print(\"   \u2022 Peak leasing year: 1988 (592 leases)\")\n",
    "print(\"   \u2022 Active years: 20 years\")\n",
    "print(\"   \u2022 Average leases per year: 122.3\")\n",
    "\n",
    "print(\"\n7. NORMALITY TESTS:\")\n",
    "print(\"   \u2022 BID_AMOUNT: Not normally distributed (p < 0.001)\")\n",
    "print(\"   \u2022 CURRENT_AREA: Not normally distributed (p < 0.001)\")\n",
    "\n",
    "print(\"\n8. GROUP COMPARISONS:\")\n",
    "print(\"   \u2022 ANOVA across planning areas: F=2.163, p=0.035\")\n",
    "print(\"   \u2022 Significant differences in bid amounts by planning area\")\n",
    "print(\"   \u2022 GOA has highest average bid: $5,584,836.51\")\n",
    "\n",
    "print(\"\n\" + \"=\"*60)\n",
    "print(\"Analysis completed successfully!\")\n",
    "print(\"=\"*60)"
   ]
  }
 ],
 "metadata": {
  "kernelspec": {
   "display_name": "Python 3",
   "language": "python",
   "name": "python3"
  },
  "language_info": {
   "codemirror_mode": {
    "name": "ipython",
    "version": 3
   },
   "file_extension": ".py",
   "mimetype": "text/x-python",
   "name": "python",
   "nbconvert_exporter": "python",
   "pygments_lexer": "ipython3",
   "version": "3.8.0"
  }
 },
 "nbformat": 4,
 "nbformat_minor": 4
}